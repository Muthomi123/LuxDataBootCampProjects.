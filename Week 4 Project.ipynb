{
 "cells": [
  {
   "cell_type": "markdown",
   "id": "dc09a4f2-d44f-41f1-9c05-bc733ab0b437",
   "metadata": {},
   "source": [
    "##  Question 1: Checking whether a string is a palindrome or not using a stack.\n",
    "### To check whether a string string is palindrome or not, it is essantial to understand what palindrome string implies.\n",
    "1. A Palindrome string is a sequence of characters that reads the same forward and backward, ignoring spaces, punctuation, and capitalization.\n",
    "2. In other words, the order of characters is symmetric around its center."
   ]
  },
  {
   "cell_type": "code",
   "execution_count": 148,
   "id": "e8ef3b29-e1d1-471f-98c5-10de6cf75eac",
   "metadata": {},
   "outputs": [
    {
     "name": "stdout",
     "output_type": "stream",
     "text": [
      "True\n",
      "False\n"
     ]
    }
   ],
   "source": [
    "class Stack:\n",
    "    def __init__(self):\n",
    "        self.items = []\n",
    "\n",
    "    def push(self, item):\n",
    "        self.items.append(item)\n",
    "\n",
    "    def pop(self):\n",
    "        return self.items.pop()\n",
    "\n",
    "    def is_empty(self):\n",
    "        return len(self.items) == 0\n",
    "\n",
    "def is_palindrome(s):\n",
    "    stack = Stack()\n",
    "    for char in s:\n",
    "        stack.push(char)\n",
    "    reversed_s = ''\n",
    "    while not stack.is_empty():\n",
    "        reversed_s += stack.pop()\n",
    "    return s == reversed_s\n",
    "\n",
    "# Test\n",
    "print(is_palindrome('madam'))  # True\n",
    "print(is_palindrome('hello'))  # False"
   ]
  },
  {
   "cell_type": "markdown",
   "id": "0aea153e-ec5b-49ff-b114-de5cc66787bd",
   "metadata": {},
   "source": [
    "## Question 2: Explanation of the Concept of List Comprehension in Python with at least Three Examples"
   ]
  },
  {
   "cell_type": "markdown",
   "id": "ea3db27b-bf86-428d-a9c4-0841cff44bbb",
   "metadata": {},
   "source": [
    "### List comprehension provides a concise way to create lists in Python. \n",
    "- It's a shorter and often more readable alternative to using loops to generate lists.\n",
    "- Examples are as follows:"
   ]
  },
  {
   "cell_type": "markdown",
   "id": "9247ec39-be02-429c-94c7-adfafd56a80c",
   "metadata": {},
   "source": [
    "#### 1. List Comprehension with Nested Loops:"
   ]
  },
  {
   "cell_type": "code",
   "execution_count": 153,
   "id": "e2a7d22c-79bd-4668-8905-fb4b204dab1a",
   "metadata": {},
   "outputs": [
    {
     "name": "stdout",
     "output_type": "stream",
     "text": [
      "[(2, 5), (2, 8), (2, 10), (7, 5), (7, 8), (7, 10), (9, 5), (9, 8), (9, 10)]\n"
     ]
    }
   ],
   "source": [
    "# Create a list of pairs (x, y)\n",
    "pairs = [(x, y) for x in [2, 7, 9] for y in [5, 8, 10]]\n",
    "print(pairs)"
   ]
  },
  {
   "cell_type": "markdown",
   "id": "17b884ef-14a7-4cad-ad4d-e013838d2aca",
   "metadata": {},
   "source": [
    "#### 2. Basic List Comprehension:"
   ]
  },
  {
   "cell_type": "code",
   "execution_count": 156,
   "id": "a17a49bb-e9a1-4ed8-a472-4cd9757883a1",
   "metadata": {},
   "outputs": [
    {
     "name": "stdout",
     "output_type": "stream",
     "text": [
      "[0, 1, 4, 9, 16, 25, 36, 49, 64, 81]\n"
     ]
    }
   ],
   "source": [
    "# Create a list of squares of numbers from 0 to 9\n",
    "squares = [x**2 for x in range(10)]\n",
    "print(squares)"
   ]
  },
  {
   "cell_type": "markdown",
   "id": "682f2577-e508-46cc-bf7e-7cb65bddfd29",
   "metadata": {},
   "source": [
    "#### 3. List Comprehension with Condition:"
   ]
  },
  {
   "cell_type": "code",
   "execution_count": 159,
   "id": "43a2c6aa-091e-4fae-9901-3bfc7adce653",
   "metadata": {},
   "outputs": [
    {
     "name": "stdout",
     "output_type": "stream",
     "text": [
      "[0, 2, 4, 6, 8]\n"
     ]
    }
   ],
   "source": [
    "# Create a list of even numbers between 0 to 9\n",
    "evens = [x for x in range(10) if x % 2 == 0]\n",
    "print(evens)"
   ]
  },
  {
   "cell_type": "markdown",
   "id": "c6fa460e-dc91-4da1-8911-9f9676ff1180",
   "metadata": {},
   "source": [
    "# Question 3: Compound Datatype in Python with Three Examples.\n",
    "### A compound datatype in Python is a datatype that can hold multiple items, which may be of different types. Common examples include:\n",
    "    - lists\n",
    "    - dictionaries\n",
    "    - tuples."
   ]
  },
  {
   "cell_type": "markdown",
   "id": "48568a5a-498c-4d75-8e59-fc1aa7ae0fd2",
   "metadata": {},
   "source": [
    "#### 1. List"
   ]
  },
  {
   "cell_type": "code",
   "execution_count": 163,
   "id": "f7efff39-f5a4-4ec5-9873-f5e99f56f6f9",
   "metadata": {},
   "outputs": [
    {
     "name": "stdout",
     "output_type": "stream",
     "text": [
      "apple\n"
     ]
    }
   ],
   "source": [
    "fruits = ['apple', 'banana', 'cherry']\n",
    "print(fruits[0])"
   ]
  },
  {
   "cell_type": "markdown",
   "id": "2119f985-17a5-4df4-b820-c8282058c0e5",
   "metadata": {},
   "source": [
    "#### 2. Tuple"
   ]
  },
  {
   "cell_type": "code",
   "execution_count": 166,
   "id": "8c305dd0-80e5-4627-813b-36e8a180dc92",
   "metadata": {},
   "outputs": [
    {
     "name": "stdout",
     "output_type": "stream",
     "text": [
      "3\n"
     ]
    }
   ],
   "source": [
    "numbers = (1, 2, 3, 4, 5)\n",
    "print(numbers[2])"
   ]
  },
  {
   "cell_type": "markdown",
   "id": "29843fdf-1d46-4132-9e80-e417cb9a146b",
   "metadata": {},
   "source": [
    "#### 3. Dictionary"
   ]
  },
  {
   "cell_type": "code",
   "execution_count": 169,
   "id": "3d58cda4-bdaa-43f6-ac08-dd5efb9565da",
   "metadata": {},
   "outputs": [
    {
     "name": "stdout",
     "output_type": "stream",
     "text": [
      "John\n"
     ]
    }
   ],
   "source": [
    "person = {'name': 'John', 'age': 30, 'city': 'New York'}\n",
    "print(person['name'])"
   ]
  },
  {
   "cell_type": "markdown",
   "id": "1d74b82e-028b-4055-95c4-931e1c4f9986",
   "metadata": {},
   "source": [
    "# Question 4: Function to Return a List of Bigrams from a String\n",
    "## A bigram is a pair of consecutive characters from a string."
   ]
  },
  {
   "cell_type": "code",
   "execution_count": 172,
   "id": "d2db7153-4ff7-4b2b-9912-8ea23410d096",
   "metadata": {},
   "outputs": [
    {
     "name": "stdout",
     "output_type": "stream",
     "text": [
      "['Fa', 'av', 'vo', 'or']\n"
     ]
    }
   ],
   "source": [
    "def bigrams(s):\n",
    "    return [s[i:i+2] for i in range(len(s)-1)]\n",
    "\n",
    "# Test the function\n",
    "string = \"Favor\"\n",
    "print(bigrams(string))"
   ]
  },
  {
   "cell_type": "markdown",
   "id": "28259470-b9d6-4d6c-aafb-506752cd5350",
   "metadata": {},
   "source": [
    "# Question 5. Function to Find the Key with the Input Value Closest to the Beginning of the List\n",
    "#### Given a dictionary where the values are lists of letters, this function finds the key whose list contains the input value closest to the beginning."
   ]
  },
  {
   "cell_type": "code",
   "execution_count": 178,
   "id": "c401d9dd-5699-4bf7-bd66-0abaabd04f2e",
   "metadata": {},
   "outputs": [
    {
     "name": "stdout",
     "output_type": "stream",
     "text": [
      "a\n",
      "b\n",
      "c\n"
     ]
    }
   ],
   "source": [
    "def closest_key(d, value):\n",
    "    min_distance = float('inf')\n",
    "    closest_key = None\n",
    "    for key, values in d.items():\n",
    "        if value in values:\n",
    "            distance = values.index(value)\n",
    "            if distance < min_distance:\n",
    "                min_distance = distance\n",
    "                closest_key = key\n",
    "    return closest_key\n",
    "\n",
    "# Test\n",
    "d = {'a': ['x', 'y', 'z'], 'b': ['p', 'q', 'r'], 'c': ['m', 'n', 'o']}\n",
    "print(closest_key(d, 'y'))\n",
    "print(closest_key(d, 'r'))\n",
    "print(closest_key(d, 'm'))"
   ]
  },
  {
   "cell_type": "code",
   "execution_count": null,
   "id": "a4e01f20-ea7d-47f2-b024-aa0bde8fa601",
   "metadata": {},
   "outputs": [],
   "source": []
  }
 ],
 "metadata": {
  "kernelspec": {
   "display_name": "Python 3 (ipykernel)",
   "language": "python",
   "name": "python3"
  },
  "language_info": {
   "codemirror_mode": {
    "name": "ipython",
    "version": 3
   },
   "file_extension": ".py",
   "mimetype": "text/x-python",
   "name": "python",
   "nbconvert_exporter": "python",
   "pygments_lexer": "ipython3",
   "version": "3.11.7"
  }
 },
 "nbformat": 4,
 "nbformat_minor": 5
}
